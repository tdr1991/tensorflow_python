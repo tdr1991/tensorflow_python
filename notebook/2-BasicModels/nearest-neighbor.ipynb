{
 "cells": [
  {
   "cell_type": "code",
   "execution_count": 2,
   "metadata": {
    "collapsed": true
   },
   "outputs": [],
   "source": [
    "import tensorflow as tf\n",
    "import numpy as np"
   ]
  },
  {
   "cell_type": "code",
   "execution_count": 3,
   "metadata": {},
   "outputs": [
    {
     "name": "stdout",
     "output_type": "stream",
     "text": [
      "Extracting /data/tdr/deeplearning/data/train-images-idx3-ubyte.gz\n",
      "Extracting /data/tdr/deeplearning/data/train-labels-idx1-ubyte.gz\n",
      "Extracting /data/tdr/deeplearning/data/t10k-images-idx3-ubyte.gz\n",
      "Extracting /data/tdr/deeplearning/data/t10k-labels-idx1-ubyte.gz\n"
     ]
    }
   ],
   "source": [
    "# 获取 mnist 数据\n",
    "from tensorflow.examples.tutorials.mnist import input_data\n",
    "mnist = input_data.read_data_sets(\"/data/tdr/deeplearning/data\", one_hot=True)"
   ]
  },
  {
   "cell_type": "code",
   "execution_count": 4,
   "metadata": {
    "collapsed": true
   },
   "outputs": [],
   "source": [
    "x_train, y_train = mnist.train.next_batch(5000) # 5000 用于训练\n",
    "x_test, y_test = mnist.train.next_batch(200) # 200 用于测试"
   ]
  },
  {
   "cell_type": "code",
   "execution_count": 5,
   "metadata": {
    "collapsed": true
   },
   "outputs": [],
   "source": [
    "trShape = x_train.shape"
   ]
  },
  {
   "cell_type": "code",
   "execution_count": 6,
   "metadata": {},
   "outputs": [
    {
     "data": {
      "text/plain": [
       "(5000, 784)"
      ]
     },
     "execution_count": 6,
     "metadata": {},
     "output_type": "execute_result"
    }
   ],
   "source": [
    "trShape"
   ]
  },
  {
   "cell_type": "code",
   "execution_count": 7,
   "metadata": {
    "collapsed": true
   },
   "outputs": [],
   "source": [
    "teShape = x_test.shape"
   ]
  },
  {
   "cell_type": "code",
   "execution_count": 8,
   "metadata": {},
   "outputs": [
    {
     "data": {
      "text/plain": [
       "(200, 784)"
      ]
     },
     "execution_count": 8,
     "metadata": {},
     "output_type": "execute_result"
    }
   ],
   "source": [
    "teShape"
   ]
  },
  {
   "cell_type": "code",
   "execution_count": 16,
   "metadata": {},
   "outputs": [],
   "source": [
    "xtr = tf.placeholder(tf.float32, [None, trShape[1]])\n",
    "xte = tf.placeholder(tf.float32, [teShape[1]])\n",
    "# tf.negative 计算相反数，本来是要做减法，变成了加上相反数\n",
    "distance = tf.reduce_sum(tf.abs(tf.add(xtr, tf.negative(xte))), reduction_indices=1)\n",
    "\n",
    "pred = tf.argmin(distance, 0)\n",
    "#pred = tf.argmax(distance, 0)\n",
    "\n",
    "accuracy = 0.\n",
    "\n",
    "init = tf.global_variables_initializer()"
   ]
  },
  {
   "cell_type": "code",
   "execution_count": 17,
   "metadata": {},
   "outputs": [
    {
     "name": "stdout",
     "output_type": "stream",
     "text": [
      "test 0 prediction: 1 true class: 1\n",
      "test 1 prediction: 9 true class: 9\n",
      "test 2 prediction: 2 true class: 2\n",
      "test 3 prediction: 3 true class: 3\n",
      "test 4 prediction: 1 true class: 1\n",
      "test 5 prediction: 2 true class: 2\n",
      "test 6 prediction: 2 true class: 2\n",
      "test 7 prediction: 0 true class: 0\n",
      "test 8 prediction: 2 true class: 2\n",
      "test 9 prediction: 0 true class: 0\n",
      "test 10 prediction: 3 true class: 5\n",
      "test 11 prediction: 1 true class: 4\n",
      "test 12 prediction: 1 true class: 1\n",
      "test 13 prediction: 4 true class: 4\n",
      "test 14 prediction: 2 true class: 2\n",
      "test 15 prediction: 7 true class: 7\n",
      "test 16 prediction: 7 true class: 7\n",
      "test 17 prediction: 5 true class: 5\n",
      "test 18 prediction: 1 true class: 1\n",
      "test 19 prediction: 1 true class: 1\n",
      "test 20 prediction: 7 true class: 9\n",
      "test 21 prediction: 8 true class: 8\n",
      "test 22 prediction: 2 true class: 2\n",
      "test 23 prediction: 0 true class: 0\n",
      "test 24 prediction: 2 true class: 2\n",
      "test 25 prediction: 2 true class: 2\n",
      "test 26 prediction: 9 true class: 9\n",
      "test 27 prediction: 7 true class: 7\n",
      "test 28 prediction: 9 true class: 9\n",
      "test 29 prediction: 2 true class: 2\n",
      "test 30 prediction: 3 true class: 3\n",
      "test 31 prediction: 3 true class: 3\n",
      "test 32 prediction: 9 true class: 9\n",
      "test 33 prediction: 2 true class: 2\n",
      "test 34 prediction: 0 true class: 0\n",
      "test 35 prediction: 3 true class: 3\n",
      "test 36 prediction: 0 true class: 0\n",
      "test 37 prediction: 0 true class: 0\n",
      "test 38 prediction: 9 true class: 7\n",
      "test 39 prediction: 9 true class: 9\n",
      "test 40 prediction: 4 true class: 4\n",
      "test 41 prediction: 3 true class: 3\n",
      "test 42 prediction: 6 true class: 6\n",
      "test 43 prediction: 0 true class: 0\n",
      "test 44 prediction: 8 true class: 8\n",
      "test 45 prediction: 5 true class: 5\n",
      "test 46 prediction: 6 true class: 6\n",
      "test 47 prediction: 5 true class: 5\n",
      "test 48 prediction: 3 true class: 3\n",
      "test 49 prediction: 9 true class: 9\n",
      "test 50 prediction: 6 true class: 6\n",
      "test 51 prediction: 7 true class: 9\n",
      "test 52 prediction: 6 true class: 6\n",
      "test 53 prediction: 7 true class: 7\n",
      "test 54 prediction: 7 true class: 2\n",
      "test 55 prediction: 1 true class: 1\n",
      "test 56 prediction: 4 true class: 4\n",
      "test 57 prediction: 8 true class: 8\n",
      "test 58 prediction: 1 true class: 1\n",
      "test 59 prediction: 1 true class: 1\n",
      "test 60 prediction: 9 true class: 9\n",
      "test 61 prediction: 9 true class: 9\n",
      "test 62 prediction: 7 true class: 9\n",
      "test 63 prediction: 2 true class: 2\n",
      "test 64 prediction: 6 true class: 6\n",
      "test 65 prediction: 1 true class: 1\n",
      "test 66 prediction: 4 true class: 4\n",
      "test 67 prediction: 5 true class: 5\n",
      "test 68 prediction: 2 true class: 2\n",
      "test 69 prediction: 9 true class: 7\n",
      "test 70 prediction: 4 true class: 4\n",
      "test 71 prediction: 7 true class: 7\n",
      "test 72 prediction: 6 true class: 6\n",
      "test 73 prediction: 3 true class: 3\n",
      "test 74 prediction: 4 true class: 4\n",
      "test 75 prediction: 0 true class: 0\n",
      "test 76 prediction: 5 true class: 5\n",
      "test 77 prediction: 5 true class: 5\n",
      "test 78 prediction: 6 true class: 6\n",
      "test 79 prediction: 6 true class: 6\n",
      "test 80 prediction: 2 true class: 2\n",
      "test 81 prediction: 3 true class: 3\n",
      "test 82 prediction: 1 true class: 1\n",
      "test 83 prediction: 7 true class: 7\n",
      "test 84 prediction: 9 true class: 9\n",
      "test 85 prediction: 5 true class: 8\n",
      "test 86 prediction: 5 true class: 3\n",
      "test 87 prediction: 4 true class: 4\n",
      "test 88 prediction: 3 true class: 3\n",
      "test 89 prediction: 6 true class: 6\n",
      "test 90 prediction: 2 true class: 2\n",
      "test 91 prediction: 9 true class: 9\n",
      "test 92 prediction: 2 true class: 2\n",
      "test 93 prediction: 1 true class: 6\n",
      "test 94 prediction: 8 true class: 9\n",
      "test 95 prediction: 2 true class: 2\n",
      "test 96 prediction: 1 true class: 1\n",
      "test 97 prediction: 4 true class: 4\n",
      "test 98 prediction: 0 true class: 0\n",
      "test 99 prediction: 0 true class: 0\n",
      "test 100 prediction: 8 true class: 8\n",
      "test 101 prediction: 5 true class: 5\n",
      "test 102 prediction: 5 true class: 5\n",
      "test 103 prediction: 6 true class: 6\n",
      "test 104 prediction: 3 true class: 3\n",
      "test 105 prediction: 9 true class: 9\n",
      "test 106 prediction: 7 true class: 7\n",
      "test 107 prediction: 3 true class: 3\n",
      "test 108 prediction: 3 true class: 3\n",
      "test 109 prediction: 8 true class: 8\n",
      "test 110 prediction: 1 true class: 1\n",
      "test 111 prediction: 9 true class: 9\n",
      "test 112 prediction: 6 true class: 6\n",
      "test 113 prediction: 0 true class: 0\n",
      "test 114 prediction: 8 true class: 8\n",
      "test 115 prediction: 8 true class: 8\n",
      "test 116 prediction: 1 true class: 1\n",
      "test 117 prediction: 4 true class: 4\n",
      "test 118 prediction: 5 true class: 5\n",
      "test 119 prediction: 3 true class: 3\n",
      "test 120 prediction: 1 true class: 1\n",
      "test 121 prediction: 2 true class: 2\n",
      "test 122 prediction: 8 true class: 8\n",
      "test 123 prediction: 2 true class: 2\n",
      "test 124 prediction: 9 true class: 9\n",
      "test 125 prediction: 7 true class: 7\n",
      "test 126 prediction: 7 true class: 7\n",
      "test 127 prediction: 5 true class: 5\n",
      "test 128 prediction: 1 true class: 1\n",
      "test 129 prediction: 3 true class: 3\n",
      "test 130 prediction: 9 true class: 9\n",
      "test 131 prediction: 8 true class: 8\n",
      "test 132 prediction: 7 true class: 7\n",
      "test 133 prediction: 3 true class: 3\n",
      "test 134 prediction: 9 true class: 9\n",
      "test 135 prediction: 4 true class: 4\n",
      "test 136 prediction: 6 true class: 6\n",
      "test 137 prediction: 9 true class: 9\n",
      "test 138 prediction: 7 true class: 7\n",
      "test 139 prediction: 7 true class: 7\n",
      "test 140 prediction: 2 true class: 2\n",
      "test 141 prediction: 0 true class: 0\n",
      "test 142 prediction: 2 true class: 2\n",
      "test 143 prediction: 9 true class: 9\n",
      "test 144 prediction: 8 true class: 8\n",
      "test 145 prediction: 3 true class: 3\n",
      "test 146 prediction: 2 true class: 2\n",
      "test 147 prediction: 0 true class: 0\n",
      "test 148 prediction: 9 true class: 9\n",
      "test 149 prediction: 6 true class: 6\n",
      "test 150 prediction: 4 true class: 9\n",
      "test 151 prediction: 2 true class: 2\n",
      "test 152 prediction: 2 true class: 2\n",
      "test 153 prediction: 2 true class: 2\n",
      "test 154 prediction: 5 true class: 5\n",
      "test 155 prediction: 0 true class: 0\n",
      "test 156 prediction: 0 true class: 0\n",
      "test 157 prediction: 9 true class: 9\n",
      "test 158 prediction: 4 true class: 4\n",
      "test 159 prediction: 1 true class: 1\n",
      "test 160 prediction: 5 true class: 5\n",
      "test 161 prediction: 8 true class: 8\n",
      "test 162 prediction: 0 true class: 2\n",
      "test 163 prediction: 6 true class: 6\n",
      "test 164 prediction: 3 true class: 3\n",
      "test 165 prediction: 9 true class: 9\n",
      "test 166 prediction: 9 true class: 9\n",
      "test 167 prediction: 1 true class: 1\n",
      "test 168 prediction: 9 true class: 9\n",
      "test 169 prediction: 1 true class: 1\n",
      "test 170 prediction: 8 true class: 8\n",
      "test 171 prediction: 0 true class: 9\n",
      "test 172 prediction: 0 true class: 0\n",
      "test 173 prediction: 9 true class: 9\n",
      "test 174 prediction: 0 true class: 0\n",
      "test 175 prediction: 7 true class: 7\n",
      "test 176 prediction: 8 true class: 8\n",
      "test 177 prediction: 4 true class: 4\n",
      "test 178 prediction: 0 true class: 0\n",
      "test 179 prediction: 9 true class: 5\n",
      "test 180 prediction: 6 true class: 6\n",
      "test 181 prediction: 6 true class: 6\n",
      "test 182 prediction: 6 true class: 6\n",
      "test 183 prediction: 6 true class: 6\n",
      "test 184 prediction: 0 true class: 0\n",
      "test 185 prediction: 1 true class: 1\n",
      "test 186 prediction: 0 true class: 0\n",
      "test 187 prediction: 0 true class: 0\n",
      "test 188 prediction: 1 true class: 1\n",
      "test 189 prediction: 0 true class: 0\n",
      "test 190 prediction: 3 true class: 3\n",
      "test 191 prediction: 8 true class: 8\n",
      "test 192 prediction: 2 true class: 2\n",
      "test 193 prediction: 7 true class: 7\n",
      "test 194 prediction: 4 true class: 4\n",
      "test 195 prediction: 0 true class: 0\n",
      "test 196 prediction: 2 true class: 2\n",
      "test 197 prediction: 3 true class: 9\n",
      "test 198 prediction: 1 true class: 1\n",
      "test 199 prediction: 7 true class: 7\n",
      "完成！\n",
      "accuracy: 0.9150000000000007\n"
     ]
    }
   ],
   "source": [
    "with tf.Session() as sess:\n",
    "    sess.run(init)\n",
    "    \n",
    "    for i in range(len(x_test)):\n",
    "        nn_index = sess.run(pred, feed_dict={xtr: x_train, xte: x_test[i, :]})\n",
    "        print(\"test\", i, \"prediction:\", np.argmax(y_train[nn_index]), \"true class:\", np.argmax(y_test[i]))\n",
    "        if np.argmax(y_train[nn_index]) == np.argmax(y_test[i]):\n",
    "            accuracy += 1./len(x_test)\n",
    "        \"\"\"\n",
    "        count = 0.\n",
    "        if np.argmax(y_train[nn_index]) == np.argmax(y_test[i]):\n",
    "            count += 1\n",
    "        accuracy = count / len(x_test)\n",
    "        \"\"\"\n",
    "    print(\"完成！\")\n",
    "    print(\"accuracy:\", accuracy)"
   ]
  }
 ],
 "metadata": {
  "kernelspec": {
   "display_name": "Python 3",
   "language": "python",
   "name": "python3"
  },
  "language_info": {
   "codemirror_mode": {
    "name": "ipython",
    "version": 3
   },
   "file_extension": ".py",
   "mimetype": "text/x-python",
   "name": "python",
   "nbconvert_exporter": "python",
   "pygments_lexer": "ipython3",
   "version": "3.6.3"
  },
  "toc": {
   "nav_menu": {},
   "number_sections": true,
   "sideBar": true,
   "skip_h1_title": false,
   "toc_cell": false,
   "toc_position": {},
   "toc_section_display": "block",
   "toc_window_display": false
  }
 },
 "nbformat": 4,
 "nbformat_minor": 2
}
