{
 "cells": [
  {
   "cell_type": "code",
   "execution_count": 4,
   "metadata": {
    "collapsed": true
   },
   "outputs": [],
   "source": [
    "import numpy as np\n",
    "import tensorflow as tf\n",
    "from tensorflow.contrib.factorization import KMeans"
   ]
  },
  {
   "cell_type": "code",
   "execution_count": 2,
   "metadata": {},
   "outputs": [
    {
     "name": "stdout",
     "output_type": "stream",
     "text": [
      "Extracting /data/tdr/deeplearning/data/train-images-idx3-ubyte.gz\n",
      "Extracting /data/tdr/deeplearning/data/train-labels-idx1-ubyte.gz\n",
      "Extracting /data/tdr/deeplearning/data/t10k-images-idx3-ubyte.gz\n",
      "Extracting /data/tdr/deeplearning/data/t10k-labels-idx1-ubyte.gz\n"
     ]
    }
   ],
   "source": [
    "# 获取 mnist 数据\n",
    "from tensorflow.examples.tutorials.mnist import input_data\n",
    "mnist = input_data.read_data_sets(\"/data/tdr/deeplearning/data\", one_hot=True)\n",
    "full_data_x = mnist.train.images"
   ]
  },
  {
   "cell_type": "code",
   "execution_count": 3,
   "metadata": {},
   "outputs": [
    {
     "name": "stdout",
     "output_type": "stream",
     "text": [
      "(55000, 784) (55000, 10)\n"
     ]
    }
   ],
   "source": [
    "tiShape = mnist.train.images.shape\n",
    "tlShape = mnist.train.labels.shape\n",
    "print(tiShape,tlShape)"
   ]
  },
  {
   "cell_type": "code",
   "execution_count": 11,
   "metadata": {
    "collapsed": true
   },
   "outputs": [],
   "source": [
    "num_steps = 50\n",
    "batch_size = 1024\n",
    "k = 25\n",
    "num_classes = tlShape[1]\n",
    "num_features = tiShape[1]\n",
    "\n",
    "x = tf.placeholder(tf.float32, [None, num_features])\n",
    "y = tf.placeholder(tf.float32, [None, num_classes])\n",
    "\n",
    "kmeans = KMeans(inputs=x, num_clusters=k, distance_metric=\"cosine\", use_mini_batch=True)\n"
   ]
  },
  {
   "cell_type": "code",
   "execution_count": 12,
   "metadata": {
    "collapsed": true
   },
   "outputs": [],
   "source": [
    "(all_scores, cluster_idx, scores, cluster_centers_initailized, init_op, train_op) = kmeans.training_graph()\n",
    "cluster_idx = cluster_idx[0]\n",
    "avg_distance = tf.reduce_mean(scores)\n",
    "\n",
    "init_vars = tf.global_variables_initializer()"
   ]
  },
  {
   "cell_type": "code",
   "execution_count": 16,
   "metadata": {},
   "outputs": [
    {
     "name": "stdout",
     "output_type": "stream",
     "text": [
      "step 1, avg distance: 0.341471\n",
      "step 10, avg distance: 0.221609\n",
      "step 20, avg distance: 0.220328\n",
      "step 30, avg distance: 0.219776\n",
      "step 40, avg distance: 0.219419\n",
      "step 50, avg distance: 0.219154\n"
     ]
    }
   ],
   "source": [
    "sess = tf.Session()\n",
    "sess.run(init_vars, feed_dict={x: full_data_x})\n",
    "sess.run(init_op, feed_dict={x:full_data_x})\n",
    "for i in range(1, num_steps + 1):\n",
    "    _, d, idx = sess.run([train_op, avg_distance, cluster_idx], feed_dict={x: full_data_x})\n",
    "    if i % 10 ==0 or i == 1:\n",
    "        print(\"step %d, avg distance: %f\" % (i, d))\n"
   ]
  },
  {
   "cell_type": "code",
   "execution_count": 18,
   "metadata": {},
   "outputs": [
    {
     "name": "stdout",
     "output_type": "stream",
     "text": [
      "test accuracy: 0.7127\n"
     ]
    }
   ],
   "source": [
    "counts = np.zeros(shape=(k, num_classes))\n",
    "for i in range(len(idx)):\n",
    "    counts[idx[i]] += mnist.train.labels[i]\n",
    "\n",
    "labels_map = [np.argmax(c) for c in counts]\n",
    "labels_map = tf.convert_to_tensor(labels_map)\n",
    "\n",
    "cluster_label = tf.nn.embedding_lookup(labels_map, cluster_idx)\n",
    "correct_prediction = tf.equal(cluster_label, tf.cast(tf.argmax(y, 1), tf.int32))\n",
    "accuracy_op = tf.reduce_mean(tf.cast(correct_prediction, tf.float32))\n",
    "test_x, test_y = mnist.test.images, mnist.test.labels\n",
    "print(\"test accuracy:\", sess.run(accuracy_op, feed_dict={x: test_x, y:test_y}))"
   ]
  }
 ],
 "metadata": {
  "kernelspec": {
   "display_name": "Python 3",
   "language": "python",
   "name": "python3"
  },
  "language_info": {
   "codemirror_mode": {
    "name": "ipython",
    "version": 3
   },
   "file_extension": ".py",
   "mimetype": "text/x-python",
   "name": "python",
   "nbconvert_exporter": "python",
   "pygments_lexer": "ipython3",
   "version": "3.6.1"
  },
  "toc": {
   "colors": {
    "hover_highlight": "#DAA520",
    "navigate_num": "#000000",
    "navigate_text": "#333333",
    "running_highlight": "#FF0000",
    "selected_highlight": "#FFD700",
    "sidebar_border": "#EEEEEE",
    "wrapper_background": "#FFFFFF"
   },
   "moveMenuLeft": true,
   "nav_menu": {},
   "navigate_menu": true,
   "number_sections": true,
   "sideBar": true,
   "skip_h1_title": false,
   "threshold": 4,
   "toc_cell": false,
   "toc_position": {},
   "toc_section_display": "block",
   "toc_window_display": false,
   "widenNotebook": false
  }
 },
 "nbformat": 4,
 "nbformat_minor": 2
}
