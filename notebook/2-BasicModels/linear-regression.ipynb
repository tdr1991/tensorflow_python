{
 "cells": [
  {
   "cell_type": "code",
   "execution_count": 30,
   "metadata": {
    "collapsed": true
   },
   "outputs": [],
   "source": [
    "import random\n",
    "\n",
    "import numpy as np\n",
    "import tensorflow as tf\n",
    "import matplotlib.pyplot as plt"
   ]
  },
  {
   "cell_type": "code",
   "execution_count": 27,
   "metadata": {
    "collapsed": true
   },
   "outputs": [],
   "source": [
    "# 超参数\n",
    "learning_rate = 0.01\n",
    "training_epochs = 1000\n",
    "display_step = 50"
   ]
  },
  {
   "cell_type": "code",
   "execution_count": 21,
   "metadata": {},
   "outputs": [],
   "source": [
    "# 生成 k 个浮点数\n",
    "def GetDeff(s, t, k):\n",
    "    deff = []\n",
    "    for i in range(k):\n",
    "        deff.append(random.uniform(s, t))\n",
    "    return deff"
   ]
  },
  {
   "cell_type": "code",
   "execution_count": 26,
   "metadata": {},
   "outputs": [],
   "source": [
    "x_train = GetDeff(0, 20, 20)\n",
    "y_train = GetDeff(0, 10, 20)\n",
    "x_train = np.array(x_train)\n",
    "y_train = np.array(y_train)\n",
    "n_samples = x_train.shape[0]"
   ]
  },
  {
   "cell_type": "code",
   "execution_count": 20,
   "metadata": {},
   "outputs": [],
   "source": [
    "x = tf.placeholder(tf.float32)\n",
    "y = tf.placeholder(tf.float32)\n",
    "w = tf.Variable(np.random.randn())\n",
    "b = tf.Variable(np.random.randn())"
   ]
  },
  {
   "cell_type": "code",
   "execution_count": 24,
   "metadata": {},
   "outputs": [],
   "source": [
    "pre = tf.add(tf.multiply(x, w), b)"
   ]
  },
  {
   "cell_type": "code",
   "execution_count": 28,
   "metadata": {
    "collapsed": true
   },
   "outputs": [],
   "source": [
    "cost = tf.reduce_sum(tf.pow(pre - y, 2) / (2 * n_samples))\n",
    "optimizer = tf.train.GradientDescentOptimizer(learning_rate).minimize(cost)"
   ]
  },
  {
   "cell_type": "code",
   "execution_count": 29,
   "metadata": {
    "collapsed": true
   },
   "outputs": [],
   "source": [
    "init = tf.global_variables_initializer()"
   ]
  },
  {
   "cell_type": "code",
   "execution_count": 35,
   "metadata": {},
   "outputs": [
    {
     "name": "stdout",
     "output_type": "stream",
     "text": [
      "epoch: 0   cost=9.629988   w=0.041249   b=0.541869\n",
      "epoch: 50   cost=4.634287   w=0.221790   b=0.932157\n",
      "epoch: 100   cost=4.394084   w=0.200092   b=1.272750\n",
      "epoch: 150   cost=4.196599   w=0.180441   b=1.581215\n",
      "epoch: 200   cost=4.034198   w=0.162643   b=1.860582\n",
      "epoch: 250   cost=3.900611   w=0.146525   b=2.113597\n",
      "epoch: 300   cost=3.790695   w=0.131926   b=2.342746\n",
      "epoch: 350   cost=3.700228   w=0.118705   b=2.550279\n",
      "epoch: 400   cost=3.625743   w=0.106731   b=2.738236\n",
      "epoch: 450   cost=3.564393   w=0.095887   b=2.908464\n",
      "epoch: 500   cost=3.513841   w=0.086065   b=3.062634\n",
      "epoch: 550   cost=3.472167   w=0.077170   b=3.202262\n",
      "epoch: 600   cost=3.437796   w=0.069114   b=3.328718\n",
      "epoch: 650   cost=3.409434   w=0.061818   b=3.443242\n",
      "epoch: 700   cost=3.386013   w=0.055210   b=3.546970\n",
      "epoch: 750   cost=3.366662   w=0.049225   b=3.640914\n",
      "epoch: 800   cost=3.350664   w=0.043805   b=3.725991\n",
      "epoch: 850   cost=3.337426   w=0.038896   b=3.803043\n",
      "epoch: 900   cost=3.326463   w=0.034451   b=3.872828\n",
      "epoch: 950   cost=3.317377   w=0.030424   b=3.936030\n",
      "完成\n",
      "training cost= 3.309976  w=0.026847  b=3.992181\n"
     ]
    },
    {
     "data": {
      "image/png": "[encoded data removed]",
      "text/plain": [
       "<matplotlib.figure.Figure at 0x7fe99a48e9b0>"
      ]
     },
     "metadata": {},
     "output_type": "display_data"
    }
   ],
   "source": [
    "with tf.Session() as sess:\n",
    "    sess.run(init)\n",
    "    for epo in range(training_epochs):\n",
    "        for (xt, yt) in zip(x_train, y_train):\n",
    "            sess.run(optimizer, feed_dict={x:xt, y:yt})\n",
    "        if epo % display_step == 0:\n",
    "            c = sess.run(cost, feed_dict={x:x_train, y:y_train})\n",
    "            print(\"epoch: %d   cost=%f   w=%f   b=%f\" % (epo, c, sess.run(w), sess.run(b)))\n",
    "    print(\"完成\")\n",
    "    train_cost = sess.run(cost, feed_dict={x:x_train, y:y_train})\n",
    "    print(\"training cost= %f  w=%f  b=%f\" % (train_cost, sess.run(w), sess.run(b)))\n",
    "    plt.plot(x_train, y_train, \"ro\", label=\"original data\")\n",
    "    plt.plot(x_train, sess.run(w) * x_train + sess.run(b), label=\"filter line\")\n",
    "    plt.legend()\n",
    "    plt.show()"
   ]
  }
 ],
 "metadata": {
  "kernelspec": {
   "display_name": "Python 3",
   "language": "python",
   "name": "python3"
  },
  "language_info": {
   "codemirror_mode": {
    "name": "ipython",
    "version": 3
   },
   "file_extension": ".py",
   "mimetype": "text/x-python",
   "name": "python",
   "nbconvert_exporter": "python",
   "pygments_lexer": "ipython3",
   "version": "3.6.3"
  },
  "toc": {
   "nav_menu": {},
   "number_sections": true,
   "sideBar": true,
   "skip_h1_title": false,
   "toc_cell": false,
   "toc_position": {},
   "toc_section_display": "block",
   "toc_window_display": false
  }
 },
 "nbformat": 4,
 "nbformat_minor": 2
}
